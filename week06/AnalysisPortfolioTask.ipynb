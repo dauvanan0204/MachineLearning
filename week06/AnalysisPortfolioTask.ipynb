{
 "cells": [
  {
   "cell_type": "code",
   "execution_count": 21,
   "metadata": {},
   "outputs": [
    {
     "name": "stdout",
     "output_type": "stream",
     "text": [
      "   CustomerID  Shopping Basket  Gender  Age  Store Type  Value Products  \\\n",
      "0    20358063            48.81       0   26           0               8   \n",
      "1    24635139            33.44       1   33           1               6   \n",
      "2    27584479           131.57       0   56           2              35   \n",
      "3    28008212            20.02       0   27           0               0   \n",
      "4    29130973            95.54       1   55           2              38   \n",
      "\n",
      "   Brand Products  Top Fresco Products  \n",
      "0               2                    1  \n",
      "1               5                    1  \n",
      "2               8                   12  \n",
      "3               1                    1  \n",
      "4              18                   20  \n",
      "Mean Squared Error: 476.2714169776164\n",
      "R-squared: 0.6952340998457984\n",
      "Coefficients: [ 5.01345458  0.08483512 11.53477706  0.94619626  0.78677569  2.77054881]\n"
     ]
    }
   ],
   "source": [
    "# Đọc dữ liệu từ tệp CSV\n",
    "data = pd.read_csv('D:\\\\Python\\\\MachineLearning\\\\MachineLearning\\\\week06\\\\data\\\\Analysis-Portfolio-Task-Data.csv')\n",
    "\n",
    "# Chuyển đổi cột 'Gender' thành 0 và 1\n",
    "data['Gender'] = data['Gender'].replace({'Male': 0, 'Female': 1})\n",
    "\n",
    "# Chuyển đổi cột 'Store Type' thành 0, 1 và 2\n",
    "store_type_mapping = {'Convenient Stores': 0, 'Superstore': 1, 'Online': 2}\n",
    "data['Store Type'] = data['Store Type'].replace(store_type_mapping)\n",
    "\n",
    "# In dữ liệu đã được chuyển đổi\n",
    "print(data.head())\n",
    "X = data.drop(columns=['CustomerID', 'Shopping Basket'])\n",
    "y = data['Shopping Basket']\n",
    "# Phân chia dữ liệu thành tập huấn luyện và tập validation\n",
    "X_train, X_val, y_train, y_val = train_test_split(X, y, test_size=15, random_state=42)\n",
    "\n",
    "# Huấn luyện mô hình hồi quy tuyến tính\n",
    "model = LinearRegression()\n",
    "model.fit(X_train, y_train)\n",
    "\n",
    "# Dự đoán trên tập validation\n",
    "y_pred = model.predict(X_val)\n",
    "\n",
    "# Đánh giá mô hình\n",
    "mse = mean_squared_error(y_val, y_pred)\n",
    "r_squared = model.score(X_val, y_val)\n",
    "\n",
    "print(\"Mean Squared Error:\", mse)\n",
    "print(\"R-squared:\", r_squared)\n",
    "print(\"Coefficients:\", model.coef_)\n"
   ]
  },
  {
   "cell_type": "markdown",
   "metadata": {},
   "source": [
    "Mean Squared Error (MSE) có giá trị là 476.27. MSE đo lường sự chênh lệch giữa các giá trị thực tế và các giá trị được dự đoán bởi mô hình, với giá trị càng thấp càng tốt. Trong trường hợp này, MSE có giá trị lớn, điều này cho thấy mô hình có sự sai lệch lớn giữa dự đoán và giá trị thực tế.\n",
    "\n",
    "R-squared có giá trị là 0.695, đây là một phép đo đánh giá mức độ mô hình giải thích dữ liệu. R-squared càng gần 1 thì mô hình càng tốt. Trong trường hợp này, giá trị R-squared là 0.695, tức là mô hình chỉ giải thích được khoảng 69.5% sự biến thiên của dữ liệu, điều này cho thấy mô hình không phản ánh được một phần lớn sự biến thiên của dữ liệu.\n",
    "\n",
    "Hệ số (coefficients) của mô hình thể hiện mối quan hệ giữa các biến đầu vào và biến mục tiêu. Trong trường hợp này, các hệ số cho biết độ ảnh hưởng của mỗi biến đầu vào đối với biến mục tiêu. Đối với mỗi biến, hệ số càng lớn thì ảnh hưởng của biến đó đối với biến mục tiêu càng cao. Điều này có thể giúp định rõ những yếu tố quan trọng nhất đối với mục tiêu của mô hình.\n",
    "\n",
    "Tóm lại, mặc dù mô hình có khả năng giải thích được một phần nào đó của dữ liệu (R-squared không quá thấp), nhưng MSE cao cho thấy mô hình vẫn cần được cải thiện để dự đoán chính xác hơn. Cần xem xét các biện pháp cải thiện mô hình như thêm biến, điều chỉnh siêu tham số của mô hình hoặc sử dụng các phương pháp hồi quy khác."
   ]
  },
  {
   "cell_type": "code",
   "execution_count": 22,
   "metadata": {},
   "outputs": [
    {
     "name": "stdout",
     "output_type": "stream",
     "text": [
      "   CustomerID  Shopping Basket  Gender  Age  Store Type  Value Products  \\\n",
      "0    20358063            48.81       0   26           0               8   \n",
      "1    24635139            33.44       1   33           1               6   \n",
      "2    27584479           131.57       0   56           2              35   \n",
      "3    28008212            20.02       0   27           0               0   \n",
      "4    29130973            95.54       1   55           2              38   \n",
      "\n",
      "   Brand Products  Top Fresco Products  Label  \n",
      "0               2                    1     -1  \n",
      "1               5                    1     -1  \n",
      "2               8                   12      1  \n",
      "3               1                    1     -1  \n",
      "4              18                   20      1  \n",
      "Perceptron Accuracy: 0.8\n",
      "Logistic Regression Accuracy: 1.0\n",
      "Naive Bayes Accuracy: 0.9333333333333333\n"
     ]
    }
   ],
   "source": [
    "    import pandas as pd\n",
    "from sklearn.model_selection import train_test_split\n",
    "from sklearn.linear_model import Perceptron, LogisticRegression\n",
    "from sklearn.naive_bayes import GaussianNB\n",
    "from sklearn.metrics import accuracy_score\n",
    "\n",
    "# Đọc dữ liệu từ tệp CSV\n",
    "data = pd.read_csv('D:\\\\Python\\\\MachineLearning\\\\MachineLearning\\\\week06\\\\data\\\\Analysis-Portfolio-Task-Data.csv')\n",
    "\n",
    "# Chuyển đổi cột 'Gender' thành 0 và 1\n",
    "data['Gender'] = data['Gender'].replace({'Male': 0, 'Female': 1})\n",
    "\n",
    "# Chuyển đổi cột 'Store Type' thành 0, 1 và 2\n",
    "store_type_mapping = {'Convenient Stores': 0, 'Superstore': 1, 'Online': 2}\n",
    "data['Store Type'] = data['Store Type'].replace(store_type_mapping)\n",
    "\n",
    "# Tạo cột nhãn\n",
    "data['Label'] = data['Shopping Basket'].apply(lambda x: 1 if x > 50 else -1)\n",
    "\n",
    "# In dữ liệu đã được chuyển đổi\n",
    "print(data.head())\n",
    "\n",
    "X = data.drop(columns=['CustomerID', 'Shopping Basket', 'Label'])\n",
    "y = data['Label']\n",
    "\n",
    "# Phân chia dữ liệu thành tập huấn luyện và tập validation\n",
    "X_train, X_val, y_train, y_val = train_test_split(X, y, test_size=0.2, random_state=42)\n",
    "\n",
    "# a. Xây dựng mô hình Perceptron\n",
    "perceptron_model = Perceptron()\n",
    "perceptron_model.fit(X_train, y_train)\n",
    "perceptron_y_pred = perceptron_model.predict(X_val)\n",
    "perceptron_accuracy = accuracy_score(y_val, perceptron_y_pred)\n",
    "print(\"Perceptron Accuracy:\", perceptron_accuracy)\n",
    "\n",
    "# b. Xây dựng mô hình Logistic Regression\n",
    "logistic_model = LogisticRegression()\n",
    "logistic_model.fit(X_train, y_train)\n",
    "logistic_y_pred = logistic_model.predict(X_val)\n",
    "logistic_accuracy = accuracy_score(y_val, logistic_y_pred)\n",
    "print(\"Logistic Regression Accuracy:\", logistic_accuracy)\n",
    "\n",
    "# c. Xây dựng mô hình Naive Bayes\n",
    "naive_bayes_model = GaussianNB()\n",
    "naive_bayes_model.fit(X_train, y_train)\n",
    "naive_bayes_y_pred = naive_bayes_model.predict(X_val)\n",
    "naive_bayes_accuracy = accuracy_score(y_val, naive_bayes_y_pred)\n",
    "print(\"Naive Bayes Accuracy:\", naive_bayes_accuracy)\n"
   ]
  },
  {
   "cell_type": "markdown",
   "metadata": {},
   "source": [
    "Độ chính xác (Accuracy):\n",
    "\n",
    "Logistic Regression có độ chính xác cao nhất trên tập validation, với tất cả các điểm dữ liệu được phân loại đúng. Điều này cho thấy mô hình Logistic Regression có khả năng phân loại tốt nhất trong trường hợp này.\n",
    "Naive Bayes đứng thứ hai với độ chính xác lớn, tuy nhiên, thấp hơn so với Logistic Regression.\n",
    "Perceptron đạt được độ chính xác tương đối cao nhưng thấp hơn so với hai mô hình còn lại.\n",
    "Phù hợp với dữ liệu:\n",
    "\n",
    "Logistic Regression và Naive Bayes thường hoạt động tốt trên dữ liệu có cấu trúc tuyến tính hoặc dữ liệu mà các biến độc lập có ảnh hưởng tuyến tính đến biến mục tiêu.\n",
    "Perceptron cũng là một mô hình tuyến tính, nhưng nó có thể không hoạt động tốt trên các tập dữ liệu phức tạp hơn hoặc dữ liệu không tuyến tính.\n",
    "Khả năng giải thích:\n",
    "\n",
    "Logistic Regression cho phép xác định rõ ràng mức độ ảnh hưởng của từng biến độc lập đến biến phụ thuộc thông qua hệ số của chúng. Điều này giúp hiểu rõ hơn về cách mà mỗi biến ảnh hưởng đến dự đoán của mô hình.\n",
    "Naive Bayes giả định độc lập giữa các biến độc lập, do đó các hệ số của mô hình không cung cấp thông tin về mức độ ảnh hưởng của mỗi biến đến dự đoán. Tuy nhiên, mô hình này có thể hoạt động tốt trong nhiều trường hợp thực tế và dễ dàng hiểu được cách hoạt động của nó.\n",
    "Perceptron cũng cung cấp các hệ số, nhưng chúng không cho biết mức độ ảnh hưởng của từng biến một cách rõ ràng như trong Logistic Regression.\n",
    "Dựa trên các yếu tố trên, trong trường hợp này, Logistic Regression là lựa chọn tốt nhất do có độ chính xác cao nhất và khả năng giải thích tốt nhất về mối quan hệ giữa các biến độc lập và biến phụ thuộc.\n",
    "\n",
    "\n",
    "\n",
    "\n",
    "\n",
    "\n"
   ]
  },
  {
   "cell_type": "markdown",
   "metadata": {},
   "source": [
    "Dựa trên kết quả của các mô hình phân loại:\n",
    "\n",
    "Mô hình Perceptron có độ chính xác là 0.8, tức là khoảng 80% các điểm dữ liệu trong tập validation được phân loại đúng. Mô hình này hoạt động khá tốt, nhưng vẫn cần cải thiện để đạt được độ chính xác cao hơn.\n",
    "\n",
    "Mô hình Logistic Regression có độ chính xác là 1.0, tức là tất cả các điểm dữ liệu trong tập validation được phân loại đúng. Đây là một kết quả rất tốt và cho thấy mô hình này hoạt động rất hiệu quả trên dữ liệu đã cho.\n",
    "\n",
    "Mô hình Naive Bayes có độ chính xác là 0.933, tức là khoảng 93.3% các điểm dữ liệu trong tập validation được phân loại đúng. Mô hình này cũng hoạt động tốt, nhưng có thể cần một số điều chỉnh để cải thiện độ chính xác.\n",
    "\n",
    "So sánh giữa các mô hình:\n",
    "\n",
    "Mô hình Logistic Regression đạt được độ chính xác cao nhất trên tập validation, với tất cả các điểm dữ liệu được phân loại đúng. Điều này cho thấy rằng mô hình Logistic Regression phù hợp nhất với dữ liệu đã cho trong trường hợp này.\n",
    "\n",
    "Mô hình Naive Bayes cũng cho kết quả tốt với độ chính xác cao, nhưng thấp hơn so với Logistic Regression.\n",
    "\n",
    "Mô hình Perceptron cũng hoạt động tốt, nhưng cần cải thiện độ chính xác để đạt được kết quả tốt nhất.\n",
    "\n",
    "Tóm lại, mô hình Logistic Regression là lựa chọn tốt nhất trong trường hợp này với độ chính xác cao nhất trên tập validation.\n"
   ]
  }
 ],
 "metadata": {
  "kernelspec": {
   "display_name": "Python 3",
   "language": "python",
   "name": "python3"
  },
  "language_info": {
   "codemirror_mode": {
    "name": "ipython",
    "version": 3
   },
   "file_extension": ".py",
   "mimetype": "text/x-python",
   "name": "python",
   "nbconvert_exporter": "python",
   "pygments_lexer": "ipython3",
   "version": "3.10.1"
  }
 },
 "nbformat": 4,
 "nbformat_minor": 2
}
