{
 "cells": [
  {
   "cell_type": "code",
   "execution_count": 1,
   "metadata": {},
   "outputs": [],
   "source": [
    "## Đọc dữ liệu từ tệp\n",
    "\n",
    "import math\n",
    "import numpy as np\n",
    "with open('./data/fuel.txt') as f:\n",
    "    lines = f.readlines()\n",
    "\n",
    "x_data = []\n",
    "y_data = []\n",
    "lines.pop(0)\n",
    "\n",
    "for line in lines:\n",
    "    splitted = line.replace('\\n', '').split(',')\n",
    "    splitted.pop(0)\n",
    "    splitted = list(map(float, splitted))\n",
    "    fuel = 1000 * splitted[1] / splitted[5]\n",
    "    dlic = 1000 * splitted[0] / splitted[5]\n",
    "    logMiles = math.log2(splitted[3])\n",
    "    y_data.append([fuel])\n",
    "    x_data.append([splitted[-1], dlic, splitted[2], logMiles])\n",
    "\n",
    "x_data = np.asarray(x_data)\n",
    "y_data = np.asarray(y_data)"
   ]
  },
  {
   "cell_type": "code",
   "execution_count": 2,
   "metadata": {},
   "outputs": [],
   "source": [
    "## Trường hợp sử dụng Numpy – Dùng thuật toán HoldHouse để khai triển QR\n",
    "\n",
    "def qr_householder(A):\n",
    "    #\"\"\" Compute QR decomposition of A using Householder reflection\"\"\"\n",
    "    M = A.shape[0]\n",
    "    N = A.shape[1]\n",
    "\n",
    "    # set Q to the identity matrix\n",
    "    Q = np.identity(M)\n",
    "\n",
    "    # set R to zero matrix\n",
    "    R = np.copy(A)\n",
    "\n",
    "    for n in range(N):\n",
    "        # vector to transform\n",
    "        x = A[n:, n]\n",
    "        k = x.shape[0]\n",
    "\n",
    "        # compute ro=-sign(x0)||x||\n",
    "        ro = -np.sign(x[0]) * np.linalg.norm(x)\n",
    "\n",
    "        # compute the householder vector v\n",
    "        e = np.zeros(k)\n",
    "        e[0] = 1\n",
    "        v = (1 / (x[0] - ro)) * (x - (ro * e))\n",
    "\n",
    "        # apply v to each column of A to find R\n",
    "        for i in range(N):\n",
    "            R[n:, i] = R[n:, i] - (2 / (v@v)) * ((np.outer(v, v)) @ R[n:, i])\n",
    "\n",
    "        # apply v to each column of Q\n",
    "        for i in range(M):\n",
    "            Q[n:, i] = Q[n:, i] - (2 / (v@v)) * ((np.outer(v, v)) @ Q[n:, i])\n",
    "\n",
    "    return Q.transpose(), R\n",
    "\n",
    "def linear_regression(x_data, y_data):\n",
    "# \"\"\"\n",
    "# This function calculate linear regression base on x_data and y_data\n",
    "# :param x_data: vector\n",
    "# :param y_data: vector\n",
    "# :return: w (regression estimate)\n",
    "# \"\"\"\n",
    "\n",
    "# add column 1\n",
    "    x_bars = np.concatenate((np.ones((x_data.shape[0], 1)), x_data), axis=1)\n",
    "\n",
    "    Q, R = qr_householder(x_bars) # QR decomposition\n",
    "    R_pinv = np.linalg.pinv(R) # calculate inverse matrix of R\n",
    "    A = np.dot(R_pinv, Q.T) # apply formula\n",
    "\n",
    "    return np.dot(A, y_data)"
   ]
  },
  {
   "cell_type": "code",
   "execution_count": 3,
   "metadata": {},
   "outputs": [
    {
     "name": "stdout",
     "output_type": "stream",
     "text": [
      "           Intercept: 154.19284457730794\n",
      "                 Tax: -4.227983208329624\n",
      "                Dlic: 0.4718712134419837\n",
      "              Income: -0.0061353309704178065\n",
      "            LogMiles: 18.545274506048024\n"
     ]
    }
   ],
   "source": [
    "w = linear_regression(x_data, y_data) # get result\n",
    "w = w.T.tolist()\n",
    "line = ['Intercept', 'Tax', \"Dlic\", \"Income\", 'LogMiles']\n",
    "res = list(zip(line, w[0]))\n",
    "for o in res:\n",
    "    print(\"{: >20}: {: >10}\".format(*o))"
   ]
  },
  {
   "cell_type": "code",
   "execution_count": 9,
   "metadata": {},
   "outputs": [
    {
     "name": "stdout",
     "output_type": "stream",
     "text": [
      "Trọng số của mô hình:\n",
      "Intercept: 154.19284457727477\n",
      "Tax: -4.227983208329612\n",
      "Dlic: 0.47187121344198957\n",
      "Income: -0.0061353309704177406\n",
      "LogMiles: 18.54527450604802\n"
     ]
    }
   ],
   "source": [
    "# Trường hợp sử dụng thư viện Scikit-Learn\n",
    "from sklearn import datasets, linear_model\n",
    "# Load training data here and assign to Xbar (obs. Data) and y (label)\n",
    "# fit the model by Linear Regression\n",
    "regr = linear_model.LinearRegression(fit_intercept=False)\n",
    "# fit_intercept = False for calculating the bias\n",
    "x_bars = np.concatenate((np.ones((x_data.shape[0], 1)), x_data), axis=1)\n",
    "regr.fit(x_bars, y_data) # train\n",
    "\n",
    "# <model_name>.predict(X_input) # predict\n",
    "# <model_name>.coef # weights of model\n",
    "# Dự đoán đầu ra cho dữ liệu mới (nếu cần)\n",
    "# predictions = regr.predict(new_data)\n",
    "\n",
    "# Trọng số của mô hình\n",
    "coefficients = regr.coef_\n",
    "\n",
    "# In ra trọng số của mô hình\n",
    "print(\"Trọng số của mô hình:\")\n",
    "for i, coef in enumerate(coefficients[0]):\n",
    "    print(f\"{line[i]}: {coef}\")"
   ]
  }
 ],
 "metadata": {
  "kernelspec": {
   "display_name": "Python 3",
   "language": "python",
   "name": "python3"
  },
  "language_info": {
   "codemirror_mode": {
    "name": "ipython",
    "version": 3
   },
   "file_extension": ".py",
   "mimetype": "text/x-python",
   "name": "python",
   "nbconvert_exporter": "python",
   "pygments_lexer": "ipython3",
   "version": "3.10.1"
  }
 },
 "nbformat": 4,
 "nbformat_minor": 2
}
