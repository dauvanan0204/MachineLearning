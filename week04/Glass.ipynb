{
 "cells": [
  {
   "cell_type": "code",
   "execution_count": 45,
   "metadata": {},
   "outputs": [
    {
     "name": "stdout",
     "output_type": "stream",
     "text": [
      "<class 'pandas.core.frame.DataFrame'>\n",
      "RangeIndex: 214 entries, 0 to 213\n",
      "Data columns (total 11 columns):\n",
      " #   Column     Non-Null Count  Dtype  \n",
      "---  ------     --------------  -----  \n",
      " 0   Id_Number  214 non-null    int64  \n",
      " 1   RI         214 non-null    float64\n",
      " 2   Na         214 non-null    float64\n",
      " 3   Mg         214 non-null    float64\n",
      " 4   Al         214 non-null    float64\n",
      " 5   Si         214 non-null    float64\n",
      " 6   K          214 non-null    float64\n",
      " 7   Ca         214 non-null    float64\n",
      " 8   Ba         214 non-null    float64\n",
      " 9   Fe         214 non-null    float64\n",
      " 10  Type       214 non-null    int64  \n",
      "dtypes: float64(9), int64(2)\n",
      "memory usage: 18.5 KB\n",
      "None\n",
      "[1 2 3 5 6 7]\n",
      "Type\n",
      "2    76\n",
      "1    70\n",
      "7    29\n",
      "3    17\n",
      "5    13\n",
      "6     9\n",
      "Name: count, dtype: int64\n"
     ]
    }
   ],
   "source": [
    "from matplotlib import pyplot as plt \n",
    "import numpy as np # linear algebra \n",
    "import pandas as pd # data processing, CSV file I/O (e.g. pd.read_csv) \n",
    "# change file_data to where did you put it! \n",
    "file_data = 'D:\\\\Python\\\\MachineLearning\\\\MachineLearning\\\\week04\\\\data\\\\glass.csv' \n",
    "glass_df = pd.read_csv(file_data) \n",
    "\n",
    "print(glass_df.info()) \n",
    "glass_df.drop(columns='Id_Number', inplace=True)\n",
    "glass_types = glass_df['Type'].unique() \n",
    "print(glass_types) \n",
    "print(glass_df['Type'].value_counts()) \n",
    "X = glass_df[glass_df.columns[:-1]] \n",
    "y = glass_df['Type'] \n",
    "y = np.asarray(y) - 1\n",
    "X = np.asarray(X)\n",
    "C = len(np.unique(y)) # number of classes (for c = 1, 2, 3, 4, 5, 6, 7)\n",
    "from sklearn.model_selection import train_test_split \n",
    "X_train, X_test, y_train, y_test = train_test_split(X, y,test_size=0.25, random_state=42)"
   ]
  },
  {
   "cell_type": "code",
   "execution_count": 46,
   "metadata": {},
   "outputs": [],
   "source": [
    "from scipy import sparse  \n",
    "def convert_labels(y, C = C): \n",
    "    \"\"\" \n",
    "    convert 1d label to a matrix label: each column of this  \n",
    "    matrix coresponding to 1 element in y. In i-th column of Y,  \n",
    "    only one non-zeros element located in the y[i]-th position,  \n",
    "    and = 1 ex: y = [0, 2, 1, 0], and 3 classes then return \n",
    " \n",
    "            [[1, 0, 0, 1], \n",
    "             [0, 0, 1, 0], \n",
    "             [0, 1, 0, 0]] \n",
    "    \"\"\" \n",
    "    Y = sparse.coo_matrix((np.ones_like(y), (y, np.arange(len(y)))), shape = (C, len(y))).toarray() \n",
    "    return Y  \n",
    " \n",
    "# Y = convert_labels(y, C) "
   ]
  },
  {
   "cell_type": "code",
   "execution_count": 47,
   "metadata": {},
   "outputs": [],
   "source": [
    "def softmax_stable(Z): \n",
    "    \"\"\"\n",
    "     Compute softmax values for each sets of scores in Z. \n",
    "    each column of Z is a set of score.     \n",
    "    \"\"\" \n",
    "    e_Z = np.exp(Z - np.max(Z, axis = 0, keepdims = True)) \n",
    "    A = e_Z / e_Z.sum(axis = 0) \n",
    "    return A \n",
    "def softmax(Z): \n",
    "    \"\"\" \n",
    "    #Compute softmax values for each sets of scores in V. \n",
    "    #each column of V is a set of score.     \n",
    "    \"\"\" \n",
    "    e_Z = np.exp(Z) \n",
    "    A = e_Z / e_Z.sum(axis = 0) \n",
    "    return A \n",
    "def softmax_regression(X, y, W_init, eta, tol = 1e-4, max_count = 10000): \n",
    "    W = [W_init]     \n",
    "    C = W_init.shape[1] \n",
    "    Y = convert_labels(y, C) \n",
    "    it = 0 \n",
    "    N = X.shape[1] \n",
    "    d = X.shape[0] \n",
    "     \n",
    "    count = 0 \n",
    "    check_w_after = 20 \n",
    "    while count < max_count: \n",
    "        # mix data  \n",
    "        mix_id = np.random.permutation(N) \n",
    "        for i in mix_id: \n",
    "            xi = X[:, i].reshape(d, 1) \n",
    "            yi = Y[:, i].reshape(C, 1) \n",
    "            ai = softmax(np.dot(W[-1].T, xi)) \n",
    "            W_new = W[-1] + eta*xi.dot((yi - ai).T) \n",
    "            count += 1 \n",
    "            # stopping criteria \n",
    "            if count%check_w_after == 0:                 \n",
    "                if np.linalg.norm(W_new - W[-check_w_after]) < tol: \n",
    "                    return W \n",
    "            W.append(W_new) \n",
    "    return W \n",
    " \n",
    "# cost or loss function   \n",
    "def cost(X, Y, W): \n",
    "    A = softmax(W.T.dot(X)) \n",
    "    return -np.sum(Y*np.log(A)) \n",
    " \n",
    "# Predict that X belong to which class (1..C now indexed as 0..C-1 )  \n",
    "def pred(W, X): \n",
    "    \"\"\" \n",
    "    predict output of each columns of X \n",
    "    Class of each x_i is determined by location of max probability \n",
    "    Note that class are indexed by [0, 1, 2, ...., C-1] \n",
    "    \"\"\" \n",
    "    A = softmax_stable(W.T.dot(X)) \n",
    "    return np.argmax(A, axis = 0) \n",
    " \n",
    "# W[-1] is the solution, W is all history of weights"
   ]
  },
  {
   "cell_type": "code",
   "execution_count": 49,
   "metadata": {},
   "outputs": [
    {
     "name": "stdout",
     "output_type": "stream",
     "text": [
      "(214, 9)\n",
      "(214,)\n"
     ]
    },
    {
     "ename": "ValueError",
     "evalue": "The maximum label in y should be less than the number of classes C",
     "output_type": "error",
     "traceback": [
      "\u001b[1;31m---------------------------------------------------------------------------\u001b[0m",
      "\u001b[1;31mValueError\u001b[0m                                Traceback (most recent call last)",
      "Cell \u001b[1;32mIn[49], line 7\u001b[0m\n\u001b[0;32m      5\u001b[0m d \u001b[38;5;241m=\u001b[39m X\u001b[38;5;241m.\u001b[39mT\u001b[38;5;241m.\u001b[39mshape[\u001b[38;5;241m0\u001b[39m]\n\u001b[0;32m      6\u001b[0m W_init \u001b[38;5;241m=\u001b[39m np\u001b[38;5;241m.\u001b[39mrandom\u001b[38;5;241m.\u001b[39mrandn(X\u001b[38;5;241m.\u001b[39mT\u001b[38;5;241m.\u001b[39mshape[\u001b[38;5;241m0\u001b[39m], C) \n\u001b[1;32m----> 7\u001b[0m W \u001b[38;5;241m=\u001b[39m \u001b[43msoftmax_regression\u001b[49m\u001b[43m(\u001b[49m\u001b[43mX\u001b[49m\u001b[38;5;241;43m.\u001b[39;49m\u001b[43mT\u001b[49m\u001b[43m,\u001b[49m\u001b[43m \u001b[49m\u001b[43my\u001b[49m\u001b[43m,\u001b[49m\u001b[43m \u001b[49m\u001b[43mW_init\u001b[49m\u001b[43m,\u001b[49m\u001b[43m \u001b[49m\u001b[43meta\u001b[49m\u001b[43m)\u001b[49m \n\u001b[0;32m      8\u001b[0m \u001b[38;5;28mprint\u001b[39m(W[\u001b[38;5;241m-\u001b[39m\u001b[38;5;241m1\u001b[39m]) \n",
      "Cell \u001b[1;32mIn[47], line 20\u001b[0m, in \u001b[0;36msoftmax_regression\u001b[1;34m(X, y, W_init, eta, tol, max_count)\u001b[0m\n\u001b[0;32m     18\u001b[0m W \u001b[38;5;241m=\u001b[39m [W_init]     \n\u001b[0;32m     19\u001b[0m C \u001b[38;5;241m=\u001b[39m W_init\u001b[38;5;241m.\u001b[39mshape[\u001b[38;5;241m1\u001b[39m] \n\u001b[1;32m---> 20\u001b[0m Y \u001b[38;5;241m=\u001b[39m \u001b[43mconvert_labels\u001b[49m\u001b[43m(\u001b[49m\u001b[43my\u001b[49m\u001b[43m,\u001b[49m\u001b[43m \u001b[49m\u001b[43mC\u001b[49m\u001b[43m)\u001b[49m \n\u001b[0;32m     21\u001b[0m it \u001b[38;5;241m=\u001b[39m \u001b[38;5;241m0\u001b[39m \n\u001b[0;32m     22\u001b[0m N \u001b[38;5;241m=\u001b[39m X\u001b[38;5;241m.\u001b[39mshape[\u001b[38;5;241m1\u001b[39m] \n",
      "Cell \u001b[1;32mIn[46], line 14\u001b[0m, in \u001b[0;36mconvert_labels\u001b[1;34m(y, C)\u001b[0m\n\u001b[0;32m      3\u001b[0m \u001b[38;5;250m\u001b[39m\u001b[38;5;124;03m\"\"\" \u001b[39;00m\n\u001b[0;32m      4\u001b[0m \u001b[38;5;124;03mconvert 1d label to a matrix label: each column of this  \u001b[39;00m\n\u001b[0;32m      5\u001b[0m \u001b[38;5;124;03mmatrix coresponding to 1 element in y. In i-th column of Y,  \u001b[39;00m\n\u001b[1;32m   (...)\u001b[0m\n\u001b[0;32m     11\u001b[0m \u001b[38;5;124;03m         [0, 1, 0, 0]] \u001b[39;00m\n\u001b[0;32m     12\u001b[0m \u001b[38;5;124;03m\"\"\"\u001b[39;00m \n\u001b[0;32m     13\u001b[0m \u001b[38;5;28;01mif\u001b[39;00m np\u001b[38;5;241m.\u001b[39mmax(y) \u001b[38;5;241m>\u001b[39m\u001b[38;5;241m=\u001b[39m C:\n\u001b[1;32m---> 14\u001b[0m     \u001b[38;5;28;01mraise\u001b[39;00m \u001b[38;5;167;01mValueError\u001b[39;00m(\u001b[38;5;124m'\u001b[39m\u001b[38;5;124mThe maximum label in y should be less than the number of classes C\u001b[39m\u001b[38;5;124m'\u001b[39m)\n\u001b[0;32m     15\u001b[0m Y \u001b[38;5;241m=\u001b[39m sparse\u001b[38;5;241m.\u001b[39mcoo_matrix((np\u001b[38;5;241m.\u001b[39mones_like(y), (y, np\u001b[38;5;241m.\u001b[39marange(\u001b[38;5;28mlen\u001b[39m(y)))), shape \u001b[38;5;241m=\u001b[39m (C, \u001b[38;5;28mlen\u001b[39m(y)))\u001b[38;5;241m.\u001b[39mtoarray() \n\u001b[0;32m     16\u001b[0m \u001b[38;5;28;01mreturn\u001b[39;00m Y\n",
      "\u001b[1;31mValueError\u001b[0m: The maximum label in y should be less than the number of classes C"
     ]
    }
   ],
   "source": [
    "print(X.shape)\n",
    "print(y.shape)\n",
    "\n",
    "eta = .05  \n",
    "d = X.T.shape[0]\n",
    "W_init = np.random.randn(X.T.shape[0], C) \n",
    "W = softmax_regression(X.T, y, W_init, eta) \n",
    "print(W[-1]) "
   ]
  },
  {
   "cell_type": "markdown",
   "metadata": {},
   "source": [
    "Code bằng thư viện Scikit learn"
   ]
  },
  {
   "cell_type": "code",
   "execution_count": null,
   "metadata": {},
   "outputs": [
    {
     "name": "stdout",
     "output_type": "stream",
     "text": [
      "Accuracy Score: \n",
      "1.0\n",
      "Confusion Matrix:\n",
      "[[14  0  0  0  0  0]\n",
      " [ 0 21  0  0  0  0]\n",
      " [ 0  0  4  0  0  0]\n",
      " [ 0  0  0  4  0  0]\n",
      " [ 0  0  0  0  3  0]\n",
      " [ 0  0  0  0  0  8]]\n",
      "Coefficients:\n",
      "[[-0.75230967  0.02492735  0.17789738  0.05817981 -0.06762927  1.0950278\n",
      "  -0.04380848  0.39046056  0.00884578 -0.00503627]\n",
      " [-0.29280393  0.01372743  0.09785311  0.03438748  0.15248986  0.73801103\n",
      "   0.11451411 -0.20556688 -0.00978722  0.05082582]\n",
      " [ 0.0201071   0.0027883   0.16136776  0.53774044 -0.26999699  0.06705451\n",
      "  -0.13486328 -0.07005493 -0.13231887 -0.02425521]\n",
      " [ 0.14084856  0.00350954 -0.42078776 -0.51067315  0.38132906 -0.12946595\n",
      "   0.40668107  0.26924942  0.18633299  0.02268501]\n",
      " [ 0.28964919 -0.01968951  0.18299318 -0.0876475  -0.23361499 -0.55363428\n",
      "  -0.33362644 -0.00809419 -0.19584034 -0.04067724]\n",
      " [ 0.59450875 -0.0252631  -0.19932366 -0.03198708  0.03742233 -1.2169931\n",
      "  -0.00889697 -0.37599398  0.14276766 -0.00354211]]\n",
      "Predict:\n",
      "[1 7 1 7 2 2 1 2 2 2 6 5 2 2 6 5 7 1 1 6 2 7 7 7 3 2 1 1 5 1 1 2 3 2 1 7 5\n",
      " 3 2 2 2 7 1 2 3 2 2 2 2 2 1 1 1 2]\n"
     ]
    }
   ],
   "source": [
    "import pandas as pd \n",
    "import matplotlib.pyplot as plt \n",
    "import numpy as np \n",
    "import sklearn \n",
    "#from sklearn.preprocessing import StandardScaler  \n",
    "from sklearn.linear_model import LogisticRegression \n",
    "\n",
    "# Call to Logistic Regression Model - SAG: solving is based on Stochastic Average Gradient \n",
    "lorg=LogisticRegression(multi_class='multinomial',solver='sag', max_iter=5000) \n",
    "# and train model by Training Dataset \n",
    "lorg.fit(X_train,y_train)  \n",
    " \n",
    "# Then Predict the Test data \n",
    "Y_pred=lorg.predict(X_test) \n",
    " \n",
    "# for accuracy \n",
    "from sklearn.metrics import accuracy_score \n",
    "print(\"Accuracy Score: \")\n",
    "print(accuracy_score(y_test,Y_pred)) \n",
    " \n",
    "# for confusion matrix \n",
    "from sklearn.metrics import confusion_matrix \n",
    "cm=confusion_matrix(y_test,Y_pred) \n",
    "print(\"Confusion Matrix:\")\n",
    "print(cm) \n",
    "print(\"Coefficients:\")\n",
    "print(lorg.coef_)\n",
    "y_predict = lorg.predict(X_test)\n",
    "print(\"Predict:\")\n",
    "print(y_predict)"
   ]
  }
 ],
 "metadata": {
  "kernelspec": {
   "display_name": "Python 3",
   "language": "python",
   "name": "python3"
  },
  "language_info": {
   "codemirror_mode": {
    "name": "ipython",
    "version": 3
   },
   "file_extension": ".py",
   "mimetype": "text/x-python",
   "name": "python",
   "nbconvert_exporter": "python",
   "pygments_lexer": "ipython3",
   "version": "3.10.1"
  }
 },
 "nbformat": 4,
 "nbformat_minor": 2
}
