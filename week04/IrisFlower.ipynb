{
 "cells": [
  {
   "cell_type": "code",
   "execution_count": 13,
   "metadata": {},
   "outputs": [
    {
     "data": {
      "image/png": "[encoded data removed]",
      "text/plain": [
       "<Figure size 640x480 with 1 Axes>"
      ]
     },
     "metadata": {},
     "output_type": "display_data"
    }
   ],
   "source": [
    "import pandas as pd \n",
    "from sklearn.decomposition import PCA as sklearnPCA \n",
    "import numpy as np \n",
    "import matplotlib.pyplot as plt \n",
    "from sklearn import datasets \n",
    " \n",
    "# import some data to play with \n",
    "iris = datasets.load_iris() \n",
    "X = iris.data[:, :4]  # we take full 4 features \n",
    "Y = iris.target \n",
    "C = 3 # number of classes (for c = 0, 1, 2)\n",
    "# Normalize data \n",
    "X_norm = (X - X.min())/(X.max() - X.min()) \n",
    " \n",
    "pca = sklearnPCA(n_components=2) #2-dimensional PCA \n",
    "transformed = pd.DataFrame(pca.fit_transform(X_norm)) \n",
    " \n",
    "plt.axis(\"off\") \n",
    " \n",
    "plt.scatter(transformed[Y==0][0], transformed[Y==0][1], s=9, label='IRIS Setosa', c='red') \n",
    "plt.scatter(transformed[Y==1][0], transformed[Y==1][1], s=9, label='IRIS Versicolor', c='green', marker=\"^\")\n",
    "plt.scatter(transformed[Y==2][0], transformed[Y==2][1], s=9, label='IRIS Virginica', c='blue', marker=\"s\") \n",
    "plt.legend() \n",
    "plt.show() "
   ]
  },
  {
   "cell_type": "code",
   "execution_count": 2,
   "metadata": {},
   "outputs": [],
   "source": [
    "from scipy import sparse  \n",
    "def convert_labels(y, C = C): \n",
    "    \"\"\" \n",
    "    convert 1d label to a matrix label: each column of this  \n",
    "    matrix coresponding to 1 element in y. In i-th column of Y,  \n",
    "    only one non-zeros element located in the y[i]-th position,  \n",
    "    and = 1 ex: y = [0, 2, 1, 0], and 3 classes then return \n",
    " \n",
    "            [[1, 0, 0, 1], \n",
    "             [0, 0, 1, 0], \n",
    "             [0, 1, 0, 0]] \n",
    "    \"\"\" \n",
    "    Y = sparse.coo_matrix((np.ones_like(y), (y, np.arange(len(y)))), shape = (C, len(y))).toarray() \n",
    "    return Y  \n",
    " \n",
    "# Y = convert_labels(y, C) "
   ]
  },
  {
   "cell_type": "markdown",
   "metadata": {},
   "source": [
    "Chương trình tự xây dựng các hàm/phương thức từ thư viện cơ bản (bài tập tự thực hành 1)"
   ]
  },
  {
   "cell_type": "code",
   "execution_count": 3,
   "metadata": {},
   "outputs": [],
   "source": [
    "def softmax_stable(Z): \n",
    "    \"\"\"\n",
    "     Compute softmax values for each sets of scores in Z. \n",
    "    each column of Z is a set of score.     \n",
    "    \"\"\" \n",
    "    e_Z = np.exp(Z - np.max(Z, axis = 0, keepdims = True)) \n",
    "    A = e_Z / e_Z.sum(axis = 0) \n",
    "    return A \n",
    "def softmax(Z): \n",
    "    \"\"\" \n",
    "    #Compute softmax values for each sets of scores in V. \n",
    "    #each column of V is a set of score.     \n",
    "    \"\"\" \n",
    "    e_Z = np.exp(Z) \n",
    "    A = e_Z / e_Z.sum(axis = 0) \n",
    "    return A \n",
    "def softmax_regression(X, y, W_init, eta, tol = 1e-4, max_count = 10000): \n",
    "    W = [W_init]     \n",
    "    C = W_init.shape[1] \n",
    "    Y = convert_labels(y, C) \n",
    "    it = 0 \n",
    "    N = X.shape[1] \n",
    "    d = X.shape[0] \n",
    "     \n",
    "    count = 0 \n",
    "    check_w_after = 20 \n",
    "    while count < max_count: \n",
    "        # mix data  \n",
    "        mix_id = np.random.permutation(N) \n",
    "        for i in mix_id: \n",
    "            xi = X[:, i].reshape(d, 1) \n",
    "            yi = Y[:, i].reshape(C, 1) \n",
    "            ai = softmax(np.dot(W[-1].T, xi)) \n",
    "            W_new = W[-1] + eta*xi.dot((yi - ai).T) \n",
    "            count += 1 \n",
    "            # stopping criteria \n",
    "            if count%check_w_after == 0:                 \n",
    "                if np.linalg.norm(W_new - W[-check_w_after]) < tol: \n",
    "                    return W \n",
    "            W.append(W_new) \n",
    "    return W \n",
    " \n",
    "# cost or loss function   \n",
    "def cost(X, Y, W): \n",
    "    A = softmax(W.T.dot(X)) \n",
    "    return -np.sum(Y*np.log(A)) \n",
    " \n",
    "# Predict that X belong to which class (1..C now indexed as 0..C-1 )  \n",
    "def pred(W, X): \n",
    "    \"\"\" \n",
    "    predict output of each columns of X \n",
    "    Class of each x_i is determined by location of max probability \n",
    "    Note that class are indexed by [0, 1, 2, ...., C-1] \n",
    "    \"\"\" \n",
    "    A = softmax_stable(W.T.dot(X)) \n",
    "    return np.argmax(A, axis = 0) \n",
    " \n",
    "# W[-1] is the solution, W is all history of weights"
   ]
  },
  {
   "cell_type": "markdown",
   "metadata": {},
   "source": [
    "In ra kết quả(bộ hệ số w)"
   ]
  },
  {
   "cell_type": "code",
   "execution_count": 11,
   "metadata": {},
   "outputs": [
    {
     "name": "stdout",
     "output_type": "stream",
     "text": [
      "(150, 4)\n",
      "(150,)\n",
      "[[ 1.59069403  1.94546077 -4.04474818]\n",
      " [ 4.11550112  0.04863651 -5.75631828]\n",
      " [-6.70430564 -1.82672308  5.59778042]\n",
      " [-3.10126183 -5.97399392  3.8756177 ]]\n"
     ]
    }
   ],
   "source": [
    "print(X.shape)\n",
    "print(Y.shape)\n",
    "# print(X)\n",
    "eta = .05  \n",
    "d = X.T.shape[0] \n",
    "W_init = np.random.randn(X.T.shape[0], C) \n",
    "W = softmax_regression(X.T, Y.T, W_init, eta) \n",
    "print(W[-1]) "
   ]
  },
  {
   "cell_type": "code",
   "execution_count": 5,
   "metadata": {},
   "outputs": [
    {
     "name": "stdout",
     "output_type": "stream",
     "text": [
      "Coefficients:\n",
      "[[ 3.27045706  2.3789026  -3.27299329]\n",
      " [ 2.67117234  0.24649459 -5.0177018 ]\n",
      " [-6.41979644 -1.46484981  5.65644604]\n",
      " [-2.83774862 -4.29981967  5.80546911]]\n",
      "[0 0 2 0 0 2 0 2 2 0 0 0 0 0 1 1 0 1 2 1 1 1 2 1 1 0 0 2 0 2]\n",
      "Accuracy Score: \n",
      "1.0\n",
      "Confusion Matrix:\n",
      "[[14  0  0]\n",
      " [ 0  8  0]\n",
      " [ 0  0  8]]\n"
     ]
    }
   ],
   "source": [
    "import sklearn \n",
    "# Splitting Train and test Data \n",
    "X_train,X_test,Y_train,Y_test=sklearn.model_selection.train_test_split(X,Y,test_size=0.2, random_state=2) \n",
    "# Applying logistic sigmoid regression to find coefficients\n",
    "w_init = np.random.randn(X_train.T.shape[0], C)\n",
    "eta = 0.05\n",
    "w = softmax_regression(X_train.T, Y_train.T, w_init, eta)\n",
    "\n",
    "# Print coefficients\n",
    "print(\"Coefficients:\")\n",
    "print(w[-1])\n",
    "\n",
    "Y_predict = pred(w[-1], X_test.T)\n",
    "print(Y_predict)\n",
    "\n",
    "# for accuracy \n",
    "from sklearn.metrics import accuracy_score \n",
    "print(\"Accuracy Score: \")\n",
    "print(accuracy_score(Y_test,Y_predict)) \n",
    " \n",
    "# for confusion matrix \n",
    "from sklearn.metrics import confusion_matrix \n",
    "cm=confusion_matrix(Y_test,Y_predict) \n",
    "print(\"Confusion Matrix:\")\n",
    "print(cm) "
   ]
  },
  {
   "cell_type": "code",
   "execution_count": 15,
   "metadata": {},
   "outputs": [
    {
     "name": "stdout",
     "output_type": "stream",
     "text": [
      "Accuracy Score: \n",
      "0.9666666666666667\n",
      "Confusion Matrix:\n",
      "[[14  0  0]\n",
      " [ 0  7  1]\n",
      " [ 0  0  8]]\n",
      "Coefficients:\n",
      "[[-0.1329301   1.08437662 -2.31435839 -0.99544585]\n",
      " [ 0.3329466  -0.38552373 -0.1219346  -0.9290821 ]\n",
      " [-0.2000165  -0.69885289  2.43629299  1.92452795]]\n",
      "Predict:\n",
      "[0 0 2 0 0 2 0 2 2 0 0 0 0 0 1 1 0 1 2 1 2 1 2 1 1 0 0 2 0 2]\n"
     ]
    }
   ],
   "source": [
    "import pandas as pd \n",
    "import matplotlib.pyplot as plt \n",
    "import numpy as np \n",
    "import sklearn \n",
    "#from sklearn.preprocessing import StandardScaler  \n",
    "from sklearn.linear_model import LogisticRegression \n",
    "from sklearn.datasets import load_iris \n",
    "iris=load_iris() \n",
    "# print(iris) \n",
    "X=iris.data # Observed variable  \n",
    "Y=iris.target # Dependent variable (label) \n",
    "#print(X.shape) \n",
    "#print(Y.shape) \n",
    " \n",
    "# Splitting Train and test Data \n",
    "X_train,X_test,Y_train,Y_test=sklearn.model_selection.train_test_split(X,Y,test_size=0.2,  random_state=2) \n",
    "#sc=StandardScaler() \n",
    "#X_train=sc.fit_transform(X_train) \n",
    "#X_test=sc.transform(X_test) \n",
    " \n",
    "# Call to Logistic Regression Model - SAG: solving is based on Stochastic Average Gradient \n",
    "lorg=LogisticRegression(multi_class='multinomial',solver='sag', max_iter=5000) \n",
    "# and train model by Training Dataset \n",
    "lorg.fit(X_train,Y_train)  \n",
    " \n",
    "# Then Predict the Test data \n",
    "Y_pred=lorg.predict(X_test) \n",
    " \n",
    "# for accuracy \n",
    "from sklearn.metrics import accuracy_score \n",
    "print(\"Accuracy Score: \")\n",
    "print(accuracy_score(Y_test,Y_pred)) \n",
    " \n",
    "# for confusion matrix \n",
    "from sklearn.metrics import confusion_matrix \n",
    "cm=confusion_matrix(Y_test,Y_pred) \n",
    "print(\"Confusion Matrix:\")\n",
    "print(cm) \n",
    "print(\"Coefficients:\")\n",
    "print(lorg.coef_)\n",
    "y_predict = lorg.predict(X_test)\n",
    "print(\"Predict:\")\n",
    "print(y_predict)"
   ]
  },
  {
   "cell_type": "code",
   "execution_count": 16,
   "metadata": {},
   "outputs": [
    {
     "name": "stdout",
     "output_type": "stream",
     "text": [
      "Accuracy Score:  0.9666666666666667\n",
      "Confusion Matrix:\n",
      "[[14  0  0]\n",
      " [ 0  7  1]\n",
      " [ 0  0  8]]\n",
      "Coefficients:\n",
      "[[-2.66279622  1.00561443]\n",
      " [-0.32597968  0.23882952]\n",
      " [ 2.9887759  -1.24444396]]\n",
      "Predict:\n",
      "[0 0 2 0 0 2 0 2 2 0 0 0 0 0 1 1 0 1 2 1 2 1 2 1 1 0 0 2 0 2]\n"
     ]
    },
    {
     "data": {
      "image/png": "[encoded data removed]",
      "text/plain": [
       "<Figure size 800x600 with 1 Axes>"
      ]
     },
     "metadata": {},
     "output_type": "display_data"
    }
   ],
   "source": [
    "import pandas as pd \n",
    "import matplotlib.pyplot as plt \n",
    "import numpy as np \n",
    "import sklearn \n",
    "from sklearn.linear_model import LogisticRegression \n",
    "from sklearn.datasets import load_iris \n",
    "from sklearn.decomposition import PCA  # Import PCA\n",
    "iris = load_iris() \n",
    "X = iris.data # Observed variable  \n",
    "Y = iris.target # Dependent variable (label)\n",
    "\n",
    "# Apply PCA to reduce the dimensions to 2\n",
    "pca = PCA(n_components=2)\n",
    "X_pca = pca.fit_transform(X)\n",
    "\n",
    "# Splitting Train and test Data \n",
    "X_train, X_test, Y_train, Y_test = sklearn.model_selection.train_test_split(X_pca, Y, test_size=0.2, random_state=2)\n",
    "\n",
    "# Call to Logistic Regression Model - SAG: solving is based on Stochastic Average Gradient \n",
    "lorg = LogisticRegression(multi_class='multinomial', solver='sag', max_iter=5000)\n",
    "\n",
    "# Train the model using the training dataset\n",
    "lorg.fit(X_train, Y_train)  \n",
    "\n",
    "# Then Predict the Test data \n",
    "Y_pred = lorg.predict(X_test) \n",
    "\n",
    "# Calculate accuracy \n",
    "from sklearn.metrics import accuracy_score \n",
    "print(\"Accuracy Score: \", accuracy_score(Y_test, Y_pred))\n",
    "\n",
    "# Calculate confusion matrix \n",
    "from sklearn.metrics import confusion_matrix \n",
    "cm = confusion_matrix(Y_test, Y_pred) \n",
    "print(\"Confusion Matrix:\")\n",
    "print(cm) \n",
    "\n",
    "# Print coefficients\n",
    "print(\"Coefficients:\")\n",
    "print(lorg.coef_)\n",
    "\n",
    "# Predictions\n",
    "y_predict = lorg.predict(X_test)\n",
    "print(\"Predict:\")\n",
    "print(y_predict)\n",
    "\n",
    "# Plot the data after dimensionality reduction\n",
    "plt.figure(figsize=(8, 6))\n",
    "for i in range(len(iris.target_names)):\n",
    "    plt.scatter(X_pca[Y == i][:, 0], X_pca[Y == i][:, 1], label=iris.target_names[i])\n",
    "plt.title('PCA of Iris Dataset')\n",
    "plt.xlabel('Principal Component 1')\n",
    "plt.ylabel('Principal Component 2')\n",
    "plt.legend()\n",
    "plt.show()\n"
   ]
  }
 ],
 "metadata": {
  "kernelspec": {
   "display_name": "Python 3",
   "language": "python",
   "name": "python3"
  },
  "language_info": {
   "codemirror_mode": {
    "name": "ipython",
    "version": 3
   },
   "file_extension": ".py",
   "mimetype": "text/x-python",
   "name": "python",
   "nbconvert_exporter": "python",
   "pygments_lexer": "ipython3",
   "version": "3.10.1"
  }
 },
 "nbformat": 4,
 "nbformat_minor": 2
}
