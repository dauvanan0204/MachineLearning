{
 "cells": [
  {
   "cell_type": "code",
   "execution_count": 1,
   "metadata": {},
   "outputs": [],
   "source": [
    "from sklearn.datasets import fetch_20newsgroups_vectorized\n",
    "from sklearn.model_selection import train_test_split\n",
    "import numpy as np\n",
    "n_samples = 20000\n",
    "X, y = fetch_20newsgroups_vectorized(subset='all', return_X_y=True)\n",
    "X = X[:n_samples]\n",
    "y = y[:n_samples]\n",
    "X_train, X_test, y_train, y_test = train_test_split(X, y, random_state=42,stratify=y, test_size=0.1)\n",
    "\n",
    "train_samples, n_features = X_train.shape\n",
    "n_classes = np.unique(y).shape[0]"
   ]
  },
  {
   "cell_type": "code",
   "execution_count": 2,
   "metadata": {},
   "outputs": [
    {
     "name": "stdout",
     "output_type": "stream",
     "text": [
      "Accuracy Score: \n",
      "0.823342175066313\n",
      "Confusion Matrix:\n",
      "[[68  0  0  0  0  0  0  0  0  1  0  1  0  1  0  4  0  2  0  3]\n",
      " [ 0 79  3  1  0  5  2  0  0  0  0  1  1  1  1  1  0  1  0  1]\n",
      " [ 0  5 78  6  1  4  2  0  1  0  0  0  1  0  1  0  0  0  0  0]\n",
      " [ 0  4  8 67  4  1  4  1  1  0  0  1  3  2  0  0  0  1  1  0]\n",
      " [ 0  3  2  8 74  1  2  0  0  0  0  0  3  0  0  1  1  1  0  0]\n",
      " [ 0  4  7  3  1 81  0  1  1  1  0  0  0  0  0  0  0  0  0  0]\n",
      " [ 0  0  0  2  2  2 82  4  0  1  1  1  1  1  0  1  0  0  0  0]\n",
      " [ 0  1  0  0  0  0  2 92  0  0  0  0  1  2  1  0  0  0  0  0]\n",
      " [ 0  0  0  0  1  0  3  6 86  1  0  0  0  1  1  0  0  0  1  0]\n",
      " [ 0  1  0  1  0  1  2  0  0 87  4  0  0  3  0  0  0  0  0  0]\n",
      " [ 0  0  0  0  0  0  4  0  0  3 92  0  0  0  0  0  0  0  1  0]\n",
      " [ 0  2  0  1  1  4  2  0  1  2  1 82  0  0  0  0  2  1  0  0]\n",
      " [ 0  4  0  1  1  1  2  4  0  0  0  0 84  0  1  0  0  0  0  0]\n",
      " [ 0  1  0  0  0  0  3  3  2  1  0  1  1 80  3  1  0  2  1  0]\n",
      " [ 1  1  0  0  1  2  2  0  0  0  0  0  0  3 88  1  0  0  0  0]\n",
      " [ 2  3  0  0  1  3  0  0  0  0  1  0  1  0  0 87  0  1  0  1]\n",
      " [ 0  0  0  0  1  1  0  0  0  1  0  1  3  1  1  0 80  1  1  0]\n",
      " [ 0  0  0  0  0  2  0  0  1  2  0  1  1  1  1  1  0 82  2  0]\n",
      " [ 1  0  0  0  0  0  1  0  1  2  1  0  1  1  1  1 11  1 55  0]\n",
      " [ 7  0  0  0  0  0  0  0  0  0  0  2  1  5  1 14  3  1  1 28]]\n",
      "Coefficients:\n",
      "[[-5.14688029e-01  4.64207771e-01 -3.01392691e-03 ... -7.35896379e-04\n",
      "  -5.29385788e-03 -2.00047021e-03]\n",
      " [-3.43115604e-01 -2.54508444e-01 -1.52642700e-02 ... -3.59624533e-03\n",
      "  -1.04901077e-03 -2.48614584e-02]\n",
      " [-5.25637183e-01 -3.26014594e-01  8.16204197e-03 ... -1.90369869e-03\n",
      "  -1.12946905e-03 -5.59465955e-03]\n",
      " ...\n",
      " [ 1.83786020e-01  1.41956378e+00  3.44366472e-03 ... -3.83578592e-03\n",
      "  -2.43837951e-03 -2.81529877e-03]\n",
      " [-1.45701766e-01  1.75771736e-01 -5.14490923e-03 ... -3.66641122e-03\n",
      "  -4.81246173e-03 -1.23213936e-03]\n",
      " [-3.67536904e-01 -3.21487922e-01 -1.79842507e-03 ... -1.10221233e-03\n",
      "  -4.19596188e-03 -1.17063011e-03]]\n",
      "Predict:\n",
      "[ 8 15  6 ...  5  5 14]\n"
     ]
    }
   ],
   "source": [
    "import pandas as pd \n",
    "import matplotlib.pyplot as plt \n",
    "import numpy as np \n",
    "import sklearn \n",
    "#from sklearn.preprocessing import StandardScaler  \n",
    "from sklearn.linear_model import LogisticRegression \n",
    "\n",
    "# Call to Logistic Regression Model - SAG: solving is based on Stochastic Average Gradient \n",
    "lorg=LogisticRegression(multi_class='multinomial',solver='sag', max_iter=5000) \n",
    "# and train model by Training Dataset \n",
    "lorg.fit(X_train,y_train)  \n",
    " \n",
    "# Then Predict the Test data \n",
    "Y_pred=lorg.predict(X_test) \n",
    " \n",
    "# for accuracy \n",
    "from sklearn.metrics import accuracy_score \n",
    "print(\"Accuracy Score: \")\n",
    "print(accuracy_score(y_test,Y_pred)) \n",
    " \n",
    "# for confusion matrix \n",
    "from sklearn.metrics import confusion_matrix \n",
    "cm=confusion_matrix(y_test,Y_pred) \n",
    "print(\"Confusion Matrix:\")\n",
    "print(cm) \n",
    "print(\"Coefficients:\")\n",
    "print(lorg.coef_)\n",
    "y_predict = lorg.predict(X_test)\n",
    "print(\"Predict:\")\n",
    "print(y_predict)"
   ]
  }
 ],
 "metadata": {
  "kernelspec": {
   "display_name": "Python 3",
   "language": "python",
   "name": "python3"
  },
  "language_info": {
   "codemirror_mode": {
    "name": "ipython",
    "version": 3
   },
   "file_extension": ".py",
   "mimetype": "text/x-python",
   "name": "python",
   "nbconvert_exporter": "python",
   "pygments_lexer": "ipython3",
   "version": "3.10.1"
  }
 },
 "nbformat": 4,
 "nbformat_minor": 2
}
