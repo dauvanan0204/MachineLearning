{
 "cells": [
  {
   "cell_type": "code",
   "execution_count": 1,
   "metadata": {},
   "outputs": [
    {
     "name": "stdout",
     "output_type": "stream",
     "text": [
      "Contents of base directory:\n",
      "['train', 'validation', 'vectorize.py']\n",
      "\n",
      "Contents of train directory:\n",
      "['cats', 'dogs']\n",
      "\n",
      "Contents of validation directory:\n",
      "['cats', 'dogs']\n"
     ]
    }
   ],
   "source": [
    "import os\n",
    "base_dir ='D:\\\\Python\\\\MachineLearning\\\\MachineLearning\\\\week08\\\\cats_and_dogs_filtered'\n",
    "# Change the base_dir to where you put dataset\n",
    "print(\"Contents of base directory:\")\n",
    "print(os.listdir(base_dir))\n",
    "print(\"\\nContents of train directory:\")\n",
    "print(os.listdir(f'{base_dir}\\\\train'))\n",
    "print(\"\\nContents of validation directory:\")\n",
    "print(os.listdir(f'{base_dir}\\\\validation'))"
   ]
  },
  {
   "cell_type": "code",
   "execution_count": 2,
   "metadata": {},
   "outputs": [
    {
     "name": "stdout",
     "output_type": "stream",
     "text": [
      "\n",
      "Contents of train directory:\n",
      "['cats', 'dogs']\n",
      "\n",
      "Contents of validation directory:\n",
      "['cats', 'dogs']\n"
     ]
    }
   ],
   "source": [
    "train_dir = os.path.join(base_dir, 'train')\n",
    "validation_dir = os.path.join(base_dir, 'validation')\n",
    "# Directory with training cat/dog pictures\n",
    "train_cats_dir = os.path.join(train_dir, 'cats')\n",
    "train_dogs_dir = os.path.join(train_dir, 'dogs')\n",
    "# Directory with validation cat/dog pictures\n",
    "validation_cats_dir = os.path.join(validation_dir, 'cats')\n",
    "validation_dogs_dir = os.path.join(validation_dir, 'dogs')\n",
    "print(\"\\nContents of train directory:\")\n",
    "print(os.listdir(f'{base_dir}\\\\train'))\n",
    "print(\"\\nContents of validation directory:\")\n",
    "print(os.listdir(f'{base_dir}\\\\validation'))"
   ]
  },
  {
   "cell_type": "code",
   "execution_count": 3,
   "metadata": {},
   "outputs": [
    {
     "name": "stdout",
     "output_type": "stream",
     "text": [
      "['cat.0.jpg', 'cat.1.jpg', 'cat.10.jpg', 'cat.100.jpg', 'cat.101.jpg', 'cat.102.jpg', 'cat.103.jpg', 'cat.104.jpg', 'cat.105.jpg', 'cat.106.jpg']\n",
      "['dog.0.jpg', 'dog.1.jpg', 'dog.10.jpg', 'dog.100.jpg', 'dog.101.jpg', 'dog.102.jpg', 'dog.103.jpg', 'dog.104.jpg', 'dog.105.jpg', 'dog.106.jpg']\n",
      "total training cat images : 1000\n",
      "total training dog images : 1000\n",
      "total validation cat images : 500\n",
      "total validation dog images : 500\n"
     ]
    }
   ],
   "source": [
    "train_cat_fnames = os.listdir( train_cats_dir )\n",
    "train_dog_fnames = os.listdir( train_dogs_dir )\n",
    "print(train_cat_fnames[:10])\n",
    "print(train_dog_fnames[:10])\n",
    "print('total training cat images :', len(os.listdir( train_cats_dir ) ))\n",
    "print('total training dog images :', len(os.listdir( train_dogs_dir ) ))\n",
    "print('total validation cat images :', len(os.listdir( validation_cats_dir ) ))\n",
    "print('total validation dog images :', len(os.listdir( validation_dogs_dir ) ))"
   ]
  },
  {
   "cell_type": "code",
   "execution_count": 4,
   "metadata": {},
   "outputs": [],
   "source": [
    "from sklearn.cluster import KMeans \n",
    "\n",
    "# K = 2\n",
    "# kmeans = KMeans(n_clusters=K).fit(X) "
   ]
  },
  {
   "cell_type": "code",
   "execution_count": 6,
   "metadata": {},
   "outputs": [
    {
     "name": "stdout",
     "output_type": "stream",
     "text": [
      "Số lượng mèo trong cụm 0: 467\n",
      "Số lượng chó trong cụm 0: 507\n"
     ]
    }
   ],
   "source": [
    "import os\n",
    "import cv2\n",
    "import numpy as np\n",
    "from sklearn.cluster import KMeans\n",
    "from sklearn.decomposition import PCA\n",
    "import matplotlib.pyplot as plt\n",
    "\n",
    "# Chuẩn bị dữ liệu\n",
    "base_dir = 'D:\\\\Python\\\\MachineLearning\\\\MachineLearning\\\\week08\\\\cats_and_dogs_filtered'\n",
    "train_cats_dir = os.path.join(base_dir, 'train', 'cats')\n",
    "train_dogs_dir = os.path.join(base_dir, 'train', 'dogs')\n",
    "\n",
    "# Đọc ảnh từ thư mục\n",
    "def load_images_from_folder(folder, target_size=(64, 64)):\n",
    "    images = []\n",
    "    for filename in os.listdir(folder):\n",
    "        img = cv2.imread(os.path.join(folder, filename))\n",
    "        if img is not None:\n",
    "            img_resized = cv2.resize(img, target_size)\n",
    "            images.append(img_resized)\n",
    "    return images\n",
    "\n",
    "train_cat_images = load_images_from_folder(train_cats_dir)\n",
    "train_dog_images = load_images_from_folder(train_dogs_dir)\n",
    "\n",
    "# Tạo tập dữ liệu tổng hợp cho phân cụm\n",
    "all_images = train_cat_images + train_dog_images\n",
    "all_images_flat = [img.flatten() for img in all_images]  # Chuyển mỗi ảnh thành một vector\n",
    "\n",
    "# Áp dụng K-means để phân cụm\n",
    "kmeans = KMeans(n_clusters=2, random_state=42)\n",
    "kmeans.fit(all_images_flat)\n",
    "\n",
    "# Kiểm tra kết quả phân cụm\n",
    "labels = kmeans.labels_\n",
    "cat_count = sum(1 for label in labels[:len(train_cat_images)] if label == 0)\n",
    "dog_count = sum(1 for label in labels[len(train_cat_images):] if label == 0)\n",
    "\n",
    "print(\"Số lượng mèo trong cụm 0:\", cat_count)\n",
    "print(\"Số lượng chó trong cụm 0:\", dog_count)\n"
   ]
  }
 ],
 "metadata": {
  "kernelspec": {
   "display_name": "Python 3",
   "language": "python",
   "name": "python3"
  },
  "language_info": {
   "codemirror_mode": {
    "name": "ipython",
    "version": 3
   },
   "file_extension": ".py",
   "mimetype": "text/x-python",
   "name": "python",
   "nbconvert_exporter": "python",
   "pygments_lexer": "ipython3",
   "version": "3.10.1"
  }
 },
 "nbformat": 4,
 "nbformat_minor": 2
}
